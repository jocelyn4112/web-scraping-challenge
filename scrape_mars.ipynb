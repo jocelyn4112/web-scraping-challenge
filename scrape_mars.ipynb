{
 "cells": [
  {
   "cell_type": "code",
   "execution_count": 1,
   "metadata": {},
   "outputs": [],
   "source": [
    "from splinter import Browser\n",
    "from bs4 import BeautifulSoup"
   ]
  },
  {
   "cell_type": "code",
   "execution_count": 2,
   "metadata": {},
   "outputs": [],
   "source": [
    "#Path\n",
    "executable_path = {'executable_path': 'chromedriver'}\n",
    "browser = Browser('chrome', **executable_path, headless=False)"
   ]
  },
  {
   "cell_type": "code",
   "execution_count": 4,
   "metadata": {},
   "outputs": [],
   "source": [
    "#def MarsImage():\n",
    " #   url = 'https://www.jpl.nasa.gov/spaceimages/?search=&category=Mars'\n",
    "  #  browser.visit(url)\n",
    "   # html = browser.html\n",
    "    #soup = BeautifulSoup(html, 'html.parser')  \n",
    "    #pic = soup.find(\"img\",)[\"src\"]\n",
    "    #featured_image_url = \"https://www.jpl.nasa.gov\" + image\n",
    "    #return featured_image_url"
   ]
  },
  {
   "cell_type": "code",
   "execution_count": 7,
   "metadata": {},
   "outputs": [],
   "source": [
    "url = 'https://www.jpl.nasa.gov/spaceimages/?search=&category=Mars'\n",
    "browser.visit(url)"
   ]
  },
  {
   "cell_type": "code",
   "execution_count": 8,
   "metadata": {},
   "outputs": [
    {
     "name": "stdout",
     "output_type": "stream",
     "text": [
      "Scraping Complete\n",
      "Scraping Complete\n",
      "Scraping Complete\n",
      "Scraping Complete\n",
      "Scraping Complete\n",
      "Scraping Complete\n",
      "Scraping Complete\n",
      "Scraping Complete\n",
      "Scraping Complete\n",
      "Scraping Complete\n",
      "Scraping Complete\n",
      "Scraping Complete\n",
      "Scraping Complete\n",
      "Scraping Complete\n",
      "Scraping Complete\n",
      "Scraping Complete\n",
      "Scraping Complete\n",
      "Scraping Complete\n",
      "Scraping Complete\n",
      "Scraping Complete\n",
      "Scraping Complete\n",
      "Scraping Complete\n",
      "Scraping Complete\n",
      "Scraping Complete\n",
      "Scraping Complete\n",
      "Scraping Complete\n",
      "Scraping Complete\n",
      "Scraping Complete\n",
      "Scraping Complete\n",
      "Scraping Complete\n",
      "Scraping Complete\n",
      "Scraping Complete\n",
      "Scraping Complete\n",
      "Scraping Complete\n",
      "Scraping Complete\n",
      "Scraping Complete\n",
      "Scraping Complete\n",
      "Scraping Complete\n",
      "Scraping Complete\n",
      "Scraping Complete\n",
      "Scraping Complete\n",
      "Scraping Complete\n",
      "Scraping Complete\n",
      "Scraping Complete\n",
      "Scraping Complete\n",
      "Scraping Complete\n",
      "Scraping Complete\n",
      "Scraping Complete\n",
      "Scraping Complete\n"
     ]
    }
   ],
   "source": [
    "# Iterate through all pages\n",
    "for x in range(50):\n",
    "    # HTML object\n",
    "    html = browser.html\n",
    "    # Parse HTML with Beautiful Soup\n",
    "    soup = BeautifulSoup(html, 'html.parser')\n",
    "    # Retrieve all elements that contain book information\n",
    "    articles = soup.find_all('article', class_='product_pod')\n",
    "\n",
    "    # Iterate through each book\n",
    "    for article in articles:\n",
    "        # Use Beautiful Soup's find() method to navigate and retrieve attributes\n",
    "        h3 = article.find('h3')\n",
    "        link = h3.find('a')\n",
    "        href = link['href']\n",
    "        title = link['title']\n",
    "        print('-----------')\n",
    "        print(title)\n",
    "        print('https://www.jpl.nasa.gov/spaceimages/?search=&category=Mars' + href)\n",
    "\n",
    "    # Click the 'Next' button on each page\n",
    "    try:\n",
    "        browser.click_link_by_partial_text('next')\n",
    "          \n",
    "    except:\n",
    "        print(\"Scraping Complete\")"
   ]
  },
  {
   "cell_type": "code",
   "execution_count": null,
   "metadata": {},
   "outputs": [],
   "source": []
  }
 ],
 "metadata": {
  "kernelspec": {
   "display_name": "Python [conda env:.conda-PythonData] *",
   "language": "python",
   "name": "conda-env-.conda-PythonData-py"
  },
  "language_info": {
   "codemirror_mode": {
    "name": "ipython",
    "version": 3
   },
   "file_extension": ".py",
   "mimetype": "text/x-python",
   "name": "python",
   "nbconvert_exporter": "python",
   "pygments_lexer": "ipython3",
   "version": "3.6.10"
  }
 },
 "nbformat": 4,
 "nbformat_minor": 4
}
